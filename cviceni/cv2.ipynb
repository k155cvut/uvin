{
 "cells": [
  {
   "cell_type": "code",
   "execution_count": 6,
   "id": "0a22958b",
   "metadata": {},
   "outputs": [
    {
     "name": "stdout",
     "output_type": "stream",
     "text": [
      "36\n",
      "9\n",
      "9.359999999998669\n",
      "36.1526\n"
     ]
    }
   ],
   "source": [
    "alfa = 36.1526\n",
    "D = int(alfa)\n",
    "print(D)\n",
    "M= int(60*(alfa-D))\n",
    "print(M)\n",
    "S = 3600*(alfa-D-M/60)\n",
    "print(S)\n",
    "alfa2=D+M/60+S/3600\n",
    "print(alfa2)"
   ]
  },
  {
   "cell_type": "markdown",
   "id": "43dcb81a",
   "metadata": {},
   "source": [
    "m=28300\n",
    "n5000 = m//5000\n",
    "print (n5000)"
   ]
  },
  {
   "cell_type": "code",
   "execution_count": 25,
   "id": "ac7bada5",
   "metadata": {},
   "outputs": [
    {
     "name": "stdout",
     "output_type": "stream",
     "text": [
      "5\n",
      "5 x 5000 CZK\n",
      "1 x 2000 CZK\n",
      "1 x 1000 CZK\n",
      "0 x 500 CZK\n",
      "1 x 200 CZK\n",
      "1 x 100 CZK\n"
     ]
    }
   ],
   "source": [
    "m=28300\n",
    "\n",
    "#Use 5000 CZK\n",
    "b5000= 5000\n",
    "n5000 = m//b5000 \n",
    "print (n5000)\n",
    "N5000=int(m/b5000)\n",
    "print(N5000,'x', b5000, 'CZK')\n",
    "m = (m - n5000*b5000)\n",
    "M = m%b5000\n",
    "#print (M,m)\n",
    "\n",
    "#Use 2000 CZK\n",
    "b2000 = 2000\n",
    "n2000 = m//b2000\n",
    "N2000 = int(m/b2000)\n",
    "print(N2000,'x', b2000, 'CZK')\n",
    "m = (m-n2000*b2000)\n",
    "M = (m%b2000)\n",
    "#print (M,m)\n",
    "\n",
    "#Use 1000 CZK\n",
    "b1000=1000\n",
    "n1000=m//b1000\n",
    "N1000= int(m/b1000)\n",
    "print(N1000,'x', b1000, 'CZK')\n",
    "m = (m -n1000 * b1000)\n",
    "M = (m%b1000)\n",
    "#print (M,m)\n",
    "\n",
    "#Use 500 CZK\n",
    "b500=500\n",
    "n500=m//b500\n",
    "N500= int(m/b500)\n",
    "print(N500,'x', b500, 'CZK')\n",
    "m = (m -n500 * b500)\n",
    "M = (m%b500)\n",
    "#print (M,m)\n",
    "\n",
    "#Use 200 CZK\n",
    "b200=200\n",
    "n200=m//b200\n",
    "N200= int(m/b200)\n",
    "print(N200,'x', b200, 'CZK')\n",
    "m = (m -n200 * b200)\n",
    "M = (m%b200)\n",
    "#print (M,m)\n",
    "\n",
    "#Use 100 CZK\n",
    "b100=100\n",
    "n100=m//b100\n",
    "N100= int(m/b100)\n",
    "print(N100,'x', b100, 'CZK')\n",
    "m = (m -n100 * b100)\n",
    "M = (m%b100)\n",
    "#print (M,m)"
   ]
  },
  {
   "cell_type": "code",
   "execution_count": 30,
   "id": "e1d809d3",
   "metadata": {},
   "outputs": [
    {
     "name": "stdout",
     "output_type": "stream",
     "text": [
      "12.346\n"
     ]
    }
   ],
   "source": [
    "c = 12.3456789\n",
    "k = 3\n",
    "m = 10**k \n",
    "c=int(m*c+0.5)/m\n",
    "print(c)"
   ]
  },
  {
   "cell_type": "code",
   "execution_count": 33,
   "id": "0b94b9d5",
   "metadata": {},
   "outputs": [
    {
     "name": "stdout",
     "output_type": "stream",
     "text": [
      "45.0 -135.0\n"
     ]
    }
   ],
   "source": [
    "from math import *\n",
    "xa = 100\n",
    "ya = 100\n",
    "xb =  50\n",
    "yb = 50\n",
    "dx = xb-xa\n",
    "dy = yb-ya\n",
    "sigma=atan(dy/dx)*180/pi\n",
    "sigma2=atan2(dy,dx)*180/pi\n",
    "print(sigma, sigma2)"
   ]
  },
  {
   "cell_type": "code",
   "execution_count": null,
   "id": "d5e2b285",
   "metadata": {},
   "outputs": [],
   "source": []
  }
 ],
 "metadata": {
  "kernelspec": {
   "display_name": "Python 3 (ipykernel)",
   "language": "python",
   "name": "python3"
  },
  "language_info": {
   "codemirror_mode": {
    "name": "ipython",
    "version": 3
   },
   "file_extension": ".py",
   "mimetype": "text/x-python",
   "name": "python",
   "nbconvert_exporter": "python",
   "pygments_lexer": "ipython3",
   "version": "3.10.12"
  }
 },
 "nbformat": 4,
 "nbformat_minor": 5
}
