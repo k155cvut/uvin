{
 "cells": [
  {
   "cell_type": "markdown",
   "id": "8416ec1e",
   "metadata": {},
   "source": [
    "- K čemu se používají Jupyter notebooky... motivace pro UVIN\n",
    "- Úkázky, https://jupyter.org/try\n",
    "- Markdown"
   ]
  },
  {
   "cell_type": "markdown",
   "id": "51f239ac",
   "metadata": {},
   "source": [
    "# Sekce 1\n",
    "\n",
    "## Sekce 1.1\n",
    "\n",
    "Odstavec, **tučně**, *kurzíva*, ...\n",
    "\n",
    "- položka\n",
    "- položka\n",
    "\n",
    "1. položka\n",
    "1. položka\n",
    "\n",
    "[Odkaz](https://jupyter.org)\n",
    "\n",
    "![](https://upload.wikimedia.org/wikipedia/commons/3/38/Jupyter_logo.svg)\n",
    "\n"
   ]
  },
  {
   "cell_type": "markdown",
   "id": "186d8c67",
   "metadata": {},
   "source": [
    "## I like Python"
   ]
  },
  {
   "cell_type": "code",
   "execution_count": 3,
   "id": "e7803ca5",
   "metadata": {},
   "outputs": [
    {
     "data": {
      "text/plain": [
       "6"
      ]
     },
     "execution_count": 3,
     "metadata": {},
     "output_type": "execute_result"
    }
   ],
   "source": [
    "3+3 # -, *, /"
   ]
  },
  {
   "cell_type": "code",
   "execution_count": 7,
   "id": "a3c82e06-8d6c-444f-b5bb-73945fa72b92",
   "metadata": {},
   "outputs": [
    {
     "name": "stdout",
     "output_type": "stream",
     "text": [
      "10\n"
     ]
    },
    {
     "data": {
      "text/plain": [
       "20"
      ]
     },
     "execution_count": 7,
     "metadata": {},
     "output_type": "execute_result"
    }
   ],
   "source": [
    "print(20-10) # bez funkce print() se vypise pouze posledni vystup\n",
    "30-10"
   ]
  },
  {
   "cell_type": "code",
   "execution_count": 6,
   "id": "9bec93a3",
   "metadata": {},
   "outputs": [
    {
     "name": "stdout",
     "output_type": "stream",
     "text": [
      "1.6666666666666667\n",
      "1\n",
      "2\n"
     ]
    }
   ],
   "source": [
    "print(5/3)\n",
    "print(5//3)\n",
    "print(5%3)"
   ]
  },
  {
   "cell_type": "code",
   "execution_count": 4,
   "id": "e772c406",
   "metadata": {},
   "outputs": [
    {
     "data": {
      "text/plain": [
       "9"
      ]
     },
     "execution_count": 4,
     "metadata": {},
     "output_type": "execute_result"
    }
   ],
   "source": [
    "3**2"
   ]
  },
  {
   "cell_type": "code",
   "execution_count": 5,
   "id": "d660a74d",
   "metadata": {},
   "outputs": [
    {
     "data": {
      "text/plain": [
       "3.0"
      ]
     },
     "execution_count": 5,
     "metadata": {},
     "output_type": "execute_result"
    }
   ],
   "source": [
    "9**(1/2)"
   ]
  },
  {
   "cell_type": "code",
   "execution_count": 6,
   "id": "93117b4f",
   "metadata": {},
   "outputs": [
    {
     "data": {
      "text/plain": [
       "(1.8369701987210297e-16+3j)"
      ]
     },
     "execution_count": 6,
     "metadata": {},
     "output_type": "execute_result"
    }
   ],
   "source": [
    "(-9)**(0.5)"
   ]
  },
  {
   "cell_type": "code",
   "execution_count": 7,
   "id": "102b54f4",
   "metadata": {},
   "outputs": [
    {
     "ename": "ZeroDivisionError",
     "evalue": "division by zero",
     "output_type": "error",
     "traceback": [
      "\u001b[31m---------------------------------------------------------------------------\u001b[39m",
      "\u001b[31mZeroDivisionError\u001b[39m                         Traceback (most recent call last)",
      "\u001b[36mCell\u001b[39m\u001b[36m \u001b[39m\u001b[32mIn[7]\u001b[39m\u001b[32m, line 1\u001b[39m\n\u001b[32m----> \u001b[39m\u001b[32m1\u001b[39m \u001b[32;43m3\u001b[39;49m\u001b[43m/\u001b[49m\u001b[32;43m0\u001b[39;49m\n",
      "\u001b[31mZeroDivisionError\u001b[39m: division by zero"
     ]
    }
   ],
   "source": [
    "3/0"
   ]
  },
  {
   "cell_type": "code",
   "execution_count": 8,
   "id": "d55d2a39",
   "metadata": {},
   "outputs": [
    {
     "data": {
      "text/plain": [
       "18446744073709551616"
      ]
     },
     "execution_count": 8,
     "metadata": {},
     "output_type": "execute_result"
    }
   ],
   "source": [
    "2**64"
   ]
  },
  {
   "cell_type": "code",
   "execution_count": 9,
   "id": "612ab660",
   "metadata": {},
   "outputs": [
    {
     "data": {
      "text/plain": [
       "340282366920938463463374607431768211456"
      ]
     },
     "execution_count": 9,
     "metadata": {},
     "output_type": "execute_result"
    }
   ],
   "source": [
    "2**128"
   ]
  },
  {
   "cell_type": "code",
   "execution_count": 10,
   "id": "2ec00246",
   "metadata": {},
   "outputs": [
    {
     "data": {
      "text/plain": [
       "7.006492321624085e-46"
      ]
     },
     "execution_count": 10,
     "metadata": {},
     "output_type": "execute_result"
    }
   ],
   "source": [
    "2**(-150)"
   ]
  },
  {
   "cell_type": "code",
   "execution_count": 11,
   "id": "04869252",
   "metadata": {},
   "outputs": [
    {
     "data": {
      "text/plain": [
       "float"
      ]
     },
     "execution_count": 11,
     "metadata": {},
     "output_type": "execute_result"
    }
   ],
   "source": [
    "type(2.0)"
   ]
  },
  {
   "cell_type": "code",
   "execution_count": 30,
   "id": "420d5f89",
   "metadata": {},
   "outputs": [
    {
     "name": "stdout",
     "output_type": "stream",
     "text": [
      "0.5 <class 'float'>\n",
      "1 <class 'int'>\n"
     ]
    }
   ],
   "source": [
    "a = 1\n",
    "b = 2\n",
    "c = a / b\n",
    "print(c, type(c))\n",
    "d = 1.6\n",
    "e = int(d)\n",
    "print(e, type(e))"
   ]
  },
  {
   "cell_type": "code",
   "execution_count": 2,
   "id": "e3f3f5c2",
   "metadata": {},
   "outputs": [
    {
     "name": "stdout",
     "output_type": "stream",
     "text": [
      "Ahoj světe\n",
      "Ahoj světe\n"
     ]
    }
   ],
   "source": [
    "t1 = \"Ahoj\"\n",
    "t2 = \"světe\"\n",
    "print(t1 + \" \" + t2)\n",
    "print(t1, t2)"
   ]
  },
  {
   "cell_type": "code",
   "execution_count": 13,
   "id": "8f0e99f4",
   "metadata": {},
   "outputs": [
    {
     "name": "stdout",
     "output_type": "stream",
     "text": [
      "Plocha ctverce se stranou 10 m je 100 m2\n",
      "Obvod ctverce se stranou 10 m je 40 m\n"
     ]
    }
   ],
   "source": [
    "a = 10\n",
    "P = a**2\n",
    "O = 4 * a\n",
    "print('Plocha ctverce se stranou', a, 'm je', P, 'm2')\n",
    "print('Obvod ctverce se stranou', a, 'm je', O, 'm')"
   ]
  },
  {
   "cell_type": "code",
   "execution_count": 14,
   "id": "2ebe1f46",
   "metadata": {},
   "outputs": [
    {
     "data": {
      "text/plain": [
       "3.141592653589793"
      ]
     },
     "execution_count": 14,
     "metadata": {},
     "output_type": "execute_result"
    }
   ],
   "source": [
    "import math\n",
    "math.pi"
   ]
  },
  {
   "cell_type": "code",
   "execution_count": 31,
   "id": "d36dfd20",
   "metadata": {},
   "outputs": [
    {
     "name": "stdout",
     "output_type": "stream",
     "text": [
      "Obvod kruhu s polomerem 1 m je 6.283185307179586 m\n",
      "Plocha kruhu s polomerem 1 m je 3.141592653589793 m2\n"
     ]
    }
   ],
   "source": [
    "r = 1\n",
    "O = 2 * math.pi * r\n",
    "P = math.pi * r**2\n",
    "print(\"Obvod kruhu s polomerem\", r, \"m je\", O, \"m\")\n",
    "print(\"Plocha kruhu s polomerem\", r, \"m je\", P, \"m2\")"
   ]
  },
  {
   "cell_type": "code",
   "execution_count": 32,
   "id": "7d2986db",
   "metadata": {},
   "outputs": [
    {
     "name": "stdin",
     "output_type": "stream",
     "text": [
      "Zadej delku strany: 1\n"
     ]
    },
    {
     "name": "stdout",
     "output_type": "stream",
     "text": [
      "Plocha ctverce se stranou 1.0 m je 1.0 m2\n",
      "Obvod ctverce se stranou 1.0 m je 4.0 m\n"
     ]
    }
   ],
   "source": [
    "a = input('Zadej delku strany:')\n",
    "a = float (a)\n",
    "P = a**2\n",
    "O = 4 * a\n",
    "print('Plocha ctverce se stranou', a, 'm je', P, 'm2')\n",
    "print('Obvod ctverce se stranou', a, 'm je', O, 'm')"
   ]
  },
  {
   "cell_type": "code",
   "execution_count": 24,
   "id": "ea5ff922",
   "metadata": {},
   "outputs": [
    {
     "name": "stdin",
     "output_type": "stream",
     "text": [
      "Zadejte a: 1\n",
      "Zadejte b: 2\n"
     ]
    },
    {
     "name": "stdout",
     "output_type": "stream",
     "text": [
      "Přepona trojúhelníku s odvěsnami 1.0 a 2.0 je 2.23606797749979\n"
     ]
    }
   ],
   "source": [
    "a = float(input(\"Zadejte a:\"))\n",
    "b = float(input(\"Zadejte b:\"))\n",
    "c = (a**2 + b**2)**(1/2)\n",
    "# c = math.sqrt(a**2+b**2)\n",
    "print('Přepona trojúhelníku s odvěsnami', a, 'a', b, 'je', c)"
   ]
  },
  {
   "cell_type": "code",
   "execution_count": 33,
   "id": "b5f20399",
   "metadata": {},
   "outputs": [
    {
     "name": "stdin",
     "output_type": "stream",
     "text": [
      "Zadejte x1: 1\n",
      "Zadejte y1: 1\n",
      "Zadejte z1: 1\n",
      "Zadejte x2: 2\n",
      "Zadejte y2: 2\n",
      "Zadejte z2: 2\n"
     ]
    },
    {
     "name": "stdout",
     "output_type": "stream",
     "text": [
      "Vzdálenost dvou bodů v prostoru se rovná 1.7320508075688772\n"
     ]
    }
   ],
   "source": [
    "x1 = float(input('Zadejte x1:'))\n",
    "y1 = float(input('Zadejte y1:'))\n",
    "z1 = float(input('Zadejte z1:'))\n",
    "x2 = float(input('Zadejte x2:'))\n",
    "y2 = float(input('Zadejte y2:'))\n",
    "z2 = float(input('Zadejte z2:'))\n",
    "dx = x2-x1\n",
    "dy = y2-y1\n",
    "dz = z2-z1\n",
    "s = (dx**2 + dy**2 + dz**2)**(1/2)\n",
    "print('Vzdálenost dvou bodů v prostoru se rovná', s)"
   ]
  }
 ],
 "metadata": {
  "kernelspec": {
   "display_name": "Python 3 (ipykernel)",
   "language": "python",
   "name": "python3"
  },
  "language_info": {
   "codemirror_mode": {
    "name": "ipython",
    "version": 3
   },
   "file_extension": ".py",
   "mimetype": "text/x-python",
   "name": "python",
   "nbconvert_exporter": "python",
   "pygments_lexer": "ipython3",
   "version": "3.12.3"
  }
 },
 "nbformat": 4,
 "nbformat_minor": 5
}
