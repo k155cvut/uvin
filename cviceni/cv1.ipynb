{
 "cells": [
  {
   "cell_type": "markdown",
   "id": "8416ec1e",
   "metadata": {},
   "source": [
    "Hello world"
   ]
  },
  {
   "cell_type": "markdown",
   "id": "51f239ac",
   "metadata": {},
   "source": [
    "# Tuesday"
   ]
  },
  {
   "cell_type": "markdown",
   "id": "186d8c67",
   "metadata": {},
   "source": [
    "## I like Python"
   ]
  },
  {
   "cell_type": "code",
   "execution_count": 4,
   "id": "e7803ca5",
   "metadata": {},
   "outputs": [
    {
     "data": {
      "text/plain": [
       "93"
      ]
     },
     "execution_count": 4,
     "metadata": {},
     "output_type": "execute_result"
    }
   ],
   "source": [
    "3+3\n",
    "4+4*4\n",
    "56+37"
   ]
  },
  {
   "cell_type": "code",
   "execution_count": 8,
   "id": "9bec93a3",
   "metadata": {},
   "outputs": [
    {
     "data": {
      "text/plain": [
       "2"
      ]
     },
     "execution_count": 8,
     "metadata": {},
     "output_type": "execute_result"
    }
   ],
   "source": [
    "5%3"
   ]
  },
  {
   "cell_type": "code",
   "execution_count": 9,
   "id": "e772c406",
   "metadata": {},
   "outputs": [
    {
     "data": {
      "text/plain": [
       "9"
      ]
     },
     "execution_count": 9,
     "metadata": {},
     "output_type": "execute_result"
    }
   ],
   "source": [
    "3**2"
   ]
  },
  {
   "cell_type": "code",
   "execution_count": 11,
   "id": "d660a74d",
   "metadata": {},
   "outputs": [
    {
     "data": {
      "text/plain": [
       "3.0"
      ]
     },
     "execution_count": 11,
     "metadata": {},
     "output_type": "execute_result"
    }
   ],
   "source": [
    "9**(1/2)"
   ]
  },
  {
   "cell_type": "code",
   "execution_count": 14,
   "id": "93117b4f",
   "metadata": {},
   "outputs": [
    {
     "data": {
      "text/plain": [
       "(1.8369701987210297e-16+3j)"
      ]
     },
     "execution_count": 14,
     "metadata": {},
     "output_type": "execute_result"
    }
   ],
   "source": [
    "(-9)**(0.5)"
   ]
  },
  {
   "cell_type": "code",
   "execution_count": 15,
   "id": "102b54f4",
   "metadata": {},
   "outputs": [
    {
     "ename": "ZeroDivisionError",
     "evalue": "division by zero",
     "output_type": "error",
     "traceback": [
      "\u001b[0;31m---------------------------------------------------------------------------\u001b[0m",
      "\u001b[0;31mZeroDivisionError\u001b[0m                         Traceback (most recent call last)",
      "\u001b[0;32m/tmp/ipykernel_3978182/3150626867.py\u001b[0m in \u001b[0;36m<module>\u001b[0;34m\u001b[0m\n\u001b[0;32m----> 1\u001b[0;31m \u001b[0;36m3\u001b[0m\u001b[0;34m/\u001b[0m\u001b[0;36m0\u001b[0m\u001b[0;34m\u001b[0m\u001b[0;34m\u001b[0m\u001b[0m\n\u001b[0m",
      "\u001b[0;31mZeroDivisionError\u001b[0m: division by zero"
     ]
    }
   ],
   "source": [
    "3/0"
   ]
  },
  {
   "cell_type": "code",
   "execution_count": 16,
   "id": "d55d2a39",
   "metadata": {},
   "outputs": [
    {
     "data": {
      "text/plain": [
       "18446744073709551616"
      ]
     },
     "execution_count": 16,
     "metadata": {},
     "output_type": "execute_result"
    }
   ],
   "source": [
    "2**64"
   ]
  },
  {
   "cell_type": "code",
   "execution_count": 17,
   "id": "612ab660",
   "metadata": {},
   "outputs": [
    {
     "data": {
      "text/plain": [
       "340282366920938463463374607431768211456"
      ]
     },
     "execution_count": 17,
     "metadata": {},
     "output_type": "execute_result"
    }
   ],
   "source": [
    "2**128"
   ]
  },
  {
   "cell_type": "code",
   "execution_count": 19,
   "id": "2ec00246",
   "metadata": {},
   "outputs": [
    {
     "data": {
      "text/plain": [
       "7.006492321624085e-46"
      ]
     },
     "execution_count": 19,
     "metadata": {},
     "output_type": "execute_result"
    }
   ],
   "source": [
    "2**(-150)"
   ]
  },
  {
   "cell_type": "code",
   "execution_count": 23,
   "id": "04869252",
   "metadata": {},
   "outputs": [
    {
     "data": {
      "text/plain": [
       "float"
      ]
     },
     "execution_count": 23,
     "metadata": {},
     "output_type": "execute_result"
    }
   ],
   "source": [
    "type(2.0)"
   ]
  },
  {
   "cell_type": "code",
   "execution_count": 31,
   "id": "420d5f89",
   "metadata": {},
   "outputs": [
    {
     "name": "stdout",
     "output_type": "stream",
     "text": [
      "0.5\n",
      "1\n"
     ]
    },
    {
     "data": {
      "text/plain": [
       "int"
      ]
     },
     "execution_count": 31,
     "metadata": {},
     "output_type": "execute_result"
    }
   ],
   "source": [
    "a = 1\n",
    "b = 2\n",
    "c = a/b\n",
    "print(c)\n",
    "type(c)\n",
    "b = float(b)\n",
    "d = 1.6\n",
    "e = int(d)\n",
    "print(e)\n",
    "type(e)"
   ]
  },
  {
   "cell_type": "code",
   "execution_count": 38,
   "id": "8f0e99f4",
   "metadata": {},
   "outputs": [
    {
     "name": "stdout",
     "output_type": "stream",
     "text": [
      "Plocha ctverce se stranou 10 m je 100 m2\n",
      "Obvod ctverce se stranou 10 m je 40 m\n"
     ]
    }
   ],
   "source": [
    "a = 10\n",
    "P = a**2\n",
    "O = 4*a\n",
    "print('Plocha ctverce se stranou', a,'m je', P, 'm2')\n",
    "print('Obvod ctverce se stranou', a,'m je', O, 'm')"
   ]
  },
  {
   "cell_type": "code",
   "execution_count": 40,
   "id": "2ebe1f46",
   "metadata": {},
   "outputs": [
    {
     "data": {
      "text/plain": [
       "3.141592653589793"
      ]
     },
     "execution_count": 40,
     "metadata": {},
     "output_type": "execute_result"
    }
   ],
   "source": [
    "from math import *\n",
    "pi"
   ]
  },
  {
   "cell_type": "code",
   "execution_count": 44,
   "id": "d36dfd20",
   "metadata": {},
   "outputs": [
    {
     "name": "stdout",
     "output_type": "stream",
     "text": [
      "obvod kruhu s polomerem 2 m je 12.566370614359172 m\n",
      "plocha kruhu s polomerem 2 m je 12.566370614359172 m2\n"
     ]
    }
   ],
   "source": [
    "r=2\n",
    "O=2*pi*r\n",
    "P=pi*r**2\n",
    "print(\"Obvod kruhu s polomerem\",r, \"m je\", O, \"m\")\n",
    "print(\"Plocha kruhu s polomerem\",r, \"m je\", P, \"m2\")"
   ]
  },
  {
   "cell_type": "code",
   "execution_count": null,
   "id": "c6742cfd",
   "metadata": {},
   "outputs": [],
   "source": [
    "\n"
   ]
  },
  {
   "cell_type": "code",
   "execution_count": 1,
   "id": "7d2986db",
   "metadata": {},
   "outputs": [
    {
     "name": "stdout",
     "output_type": "stream",
     "text": [
      "Zadej delku strany:10\n",
      "Plocha ctverce se stranou 10.0 m je 100.0 m2\n",
      "Obvod ctverce se stranou 10.0 m je 40.0 m\n"
     ]
    }
   ],
   "source": [
    "a = input('Zadej delku strany:')\n",
    "a = float (a)\n",
    "P = a**2\n",
    "O = 4*a\n",
    "print('Plocha ctverce se stranou', a,'m je', P, 'm2')\n",
    "print('Obvod ctverce se stranou', a,'m je', O, 'm')"
   ]
  },
  {
   "cell_type": "code",
   "execution_count": 6,
   "id": "ea5ff922",
   "metadata": {},
   "outputs": [
    {
     "name": "stdout",
     "output_type": "stream",
     "text": [
      "Zadejte a:3\n",
      "Zadejte b:4\n",
      "P�epona troj�heln�ku s odv�snami 3.0 a 4.0 je 5.0\n"
     ]
    }
   ],
   "source": [
    "from math import *\n",
    "a= float(input(\"Zadejte a:\"))\n",
    "b= float(input(\"Zadejte b:\"))\n",
    "c=(a**2+b**2)**(1/2)\n",
    "c=sqrt(a**2+b**2)\n",
    "print('P�epona troj�heln�ku s odv�snami',a,'a',b,'je',c,)"
   ]
  },
  {
   "cell_type": "code",
   "execution_count": 8,
   "id": "b5f20399",
   "metadata": {},
   "outputs": [
    {
     "name": "stdout",
     "output_type": "stream",
     "text": [
      "Zadejte x1:0\n",
      "Zadejte y1:0\n",
      "Zadejte z1:0\n",
      "Zadejte x2:10\n",
      "Zadejte y2:10\n",
      "Zadejte z2:10\n",
      "Vzd�lenost dvou bod� v prostoru se rovn� 17.320508075688775\n"
     ]
    }
   ],
   "source": [
    "from math import*\n",
    "x1 = float(input('Zadejte x1:'))\n",
    "y1 = float(input('Zadejte y1:'))\n",
    "z1 = float(input('Zadejte z1:'))\n",
    "x2 = float(input('Zadejte x2:'))\n",
    "y2 = float(input('Zadejte y2:'))\n",
    "z2 = float(input('Zadejte z2:'))\n",
    "dx = x2-x1\n",
    "dy = y2-y1\n",
    "dz = z2-z1\n",
    "s = ((dx**2)+(dy**2)+(dz**2))**(1/2)\n",
    "print('Vzd�lenost dvou bod� v prostoru se rovn�',s,)"
   ]
  },
  {
   "cell_type": "code",
   "execution_count": null,
   "id": "6968005a",
   "metadata": {},
   "outputs": [],
   "source": []
  }
 ],
 "metadata": {
  "kernelspec": {
   "display_name": "Python 3 (ipykernel)",
   "language": "python",
   "name": "python3"
  },
  "language_info": {
   "codemirror_mode": {
    "name": "ipython",
    "version": 3
   },
   "file_extension": ".py",
   "mimetype": "text/x-python",
   "name": "python",
   "nbconvert_exporter": "python",
   "pygments_lexer": "ipython3",
   "version": "3.10.12"
  }
 },
 "nbformat": 4,
 "nbformat_minor": 5
}